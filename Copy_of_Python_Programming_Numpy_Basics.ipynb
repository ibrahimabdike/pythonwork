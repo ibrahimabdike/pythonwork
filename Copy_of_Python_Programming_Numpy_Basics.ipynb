{
  "nbformat": 4,
  "nbformat_minor": 0,
  "metadata": {
    "colab": {
      "name": "Copy of Python Programming - Numpy Basics",
      "version": "0.3.2",
      "provenance": [],
      "collapsed_sections": [
        "jZatZRIbkDz7",
        "c2bpaw2E1Afv",
        "qcP0FkJq6q-r",
        "BqyScgzc410j",
        "3w2o-QzS60AR",
        "lpP7qc835YZX",
        "vtbzfkVu7A_i",
        "7HM2oS-c6Fyz",
        "FXNTaawR7Lly",
        "5mWusWpH6eff",
        "RMVtc9Bs7bb6"
      ],
      "toc_visible": true,
      "include_colab_link": true
    },
    "kernelspec": {
      "name": "python3",
      "display_name": "Python 3"
    }
  },
  "cells": [
    {
      "cell_type": "markdown",
      "metadata": {
        "id": "view-in-github",
        "colab_type": "text"
      },
      "source": [
        "<a href=\"https://colab.research.google.com/github/yahyalito/pythonwork/blob/master/Copy_of_Python_Programming_Numpy_Basics.ipynb\" target=\"_parent\"><img src=\"https://colab.research.google.com/assets/colab-badge.svg\" alt=\"Open In Colab\"/></a>"
      ]
    },
    {
      "cell_type": "markdown",
      "metadata": {
        "id": "c_BBfbCEZfDT",
        "colab_type": "text"
      },
      "source": [
        "<font color=\"green\">*To start working on this notebook, or any other notebook that we will use in the Moringa Data Science Course, we will need to save our own copy of it. We can do this by clicking File > Save a Copy in Drive. We will then be able to make edits to our own copy of this notebook.*</font>"
      ]
    },
    {
      "cell_type": "markdown",
      "metadata": {
        "id": "dZSJZP9809aH",
        "colab_type": "text"
      },
      "source": [
        "# Python Programming - Numpy Basics"
      ]
    },
    {
      "cell_type": "markdown",
      "metadata": {
        "id": "jZatZRIbkDz7",
        "colab_type": "text"
      },
      "source": [
        "## 1.0 Importing our Library"
      ]
    },
    {
      "cell_type": "code",
      "metadata": {
        "id": "HZ5j-AjX6ae-",
        "colab_type": "code",
        "colab": {}
      },
      "source": [
        "# We will first import the numpy library, so that we can leverage external functionalities \n",
        "# that do not come with python\n",
        "# \n",
        "import numpy as np"
      ],
      "execution_count": 0,
      "outputs": []
    },
    {
      "cell_type": "markdown",
      "metadata": {
        "id": "c2bpaw2E1Afv",
        "colab_type": "text"
      },
      "source": [
        "## 1.1 Creating Arrays"
      ]
    },
    {
      "cell_type": "code",
      "metadata": {
        "id": "ToZ19MKQ06NI",
        "colab_type": "code",
        "outputId": "30706cdb-b021-463f-9b3a-6c10dd9d3c54",
        "colab": {
          "base_uri": "https://localhost:8080/",
          "height": 34
        }
      },
      "source": [
        "# Example 1\n",
        "# Numpy arrays are a type of data structures that hold some benefits over \n",
        "# Python lists such as being more compact, faster access in reading \n",
        "# and writing items. To get started, we can create a 1 dimension (1D) Array \n",
        "# using a Python List as shown below.\n",
        "#\n",
        "my_list = [0, 1, 2, 3, 4]\n",
        "npy_my_list = np.array(my_list)\n",
        "\n",
        "print(npy_my_list)"
      ],
      "execution_count": 5,
      "outputs": [
        {
          "output_type": "stream",
          "text": [
            "[0 1 2 3 4]\n"
          ],
          "name": "stdout"
        }
      ]
    },
    {
      "cell_type": "code",
      "metadata": {
        "id": "QfwikEjh3-Az",
        "colab_type": "code",
        "outputId": "d7d1cf6b-432e-403a-8c48-12ba3410451f",
        "colab": {
          "base_uri": "https://localhost:8080/",
          "height": 86
        }
      },
      "source": [
        "# Example 2\n",
        "# We can also create 1D arrays of zeros and 2D arrays of ones \n",
        "# from Numpy builtin functions by;\n",
        "#\n",
        "zeros_arr = np.zeros(5)\n",
        "ones_arr = np.ones((3,2))\n",
        "\n",
        "print(zeros_arr)\n",
        "print(ones_arr)"
      ],
      "execution_count": 40,
      "outputs": [
        {
          "output_type": "stream",
          "text": [
            "[0. 0. 0. 0. 0.]\n",
            "[[1. 1.]\n",
            " [1. 1.]\n",
            " [1. 1.]]\n"
          ],
          "name": "stdout"
        }
      ]
    },
    {
      "cell_type": "code",
      "metadata": {
        "id": "HNCFd0Tr3_Gy",
        "colab_type": "code",
        "outputId": "2630f7c7-04f7-4cc8-c152-19d27b698f07",
        "colab": {
          "base_uri": "https://localhost:8080/",
          "height": 34
        }
      },
      "source": [
        "# Example 3\n",
        "# Creating an Array with random values  \n",
        "# \n",
        "rand_arr = np.random.rand(3)\n",
        "\n",
        "print(rand_arr)"
      ],
      "execution_count": 0,
      "outputs": [
        {
          "output_type": "stream",
          "text": [
            "[0.45127094 0.04308384 0.94022134]\n"
          ],
          "name": "stdout"
        }
      ]
    },
    {
      "cell_type": "code",
      "metadata": {
        "id": "JmPLdMUBBuMD",
        "colab_type": "code",
        "outputId": "e436b43e-7d6a-4bfe-f17a-0905bff9275b",
        "colab": {
          "base_uri": "https://localhost:8080/",
          "height": 34
        }
      },
      "source": [
        "# Example 4\n",
        "# Creating an array with evenly spaced values within a given interval \n",
        "# as shown using the Numpy arrange function\n",
        "# \n",
        "even_arr = np.arange(0,6,2)\n",
        "\n",
        "print(even_arr)"
      ],
      "execution_count": 0,
      "outputs": [
        {
          "output_type": "stream",
          "text": [
            "[0 2 4]\n"
          ],
          "name": "stdout"
        }
      ]
    },
    {
      "cell_type": "code",
      "metadata": {
        "id": "ayLolFnVebvC",
        "colab_type": "code",
        "outputId": "2f6e45c3-8e33-4d4b-afae-e73ee139d64b",
        "colab": {
          "base_uri": "https://localhost:8080/",
          "height": 104
        }
      },
      "source": [
        "# Example 5\n",
        "# Create a 5 x 5 matix with elements from 1 to 25\n",
        "#\n",
        "five_matrix = np.arange(1,26).reshape(5,5)\n",
        "\n",
        "print(five_matrix)"
      ],
      "execution_count": 0,
      "outputs": [
        {
          "output_type": "stream",
          "text": [
            "[[ 1  2  3  4  5]\n",
            " [ 6  7  8  9 10]\n",
            " [11 12 13 14 15]\n",
            " [16 17 18 19 20]\n",
            " [21 22 23 24 25]]\n"
          ],
          "name": "stdout"
        }
      ]
    },
    {
      "cell_type": "markdown",
      "metadata": {
        "id": "qcP0FkJq6q-r",
        "colab_type": "text"
      },
      "source": [
        "### <font color=\"green\">1.1 Challenges"
      ]
    },
    {
      "cell_type": "code",
      "metadata": {
        "id": "MBV-dKC_6tZx",
        "colab_type": "code",
        "colab": {}
      },
      "source": [
        "# Challenge 1\n",
        "# Create a 2D array matix using the list matr = my_mat = [[0,1,2],[3,4,5]]\n",
        "# Hint: Learn from Example 2\n",
        "# \n",
        "my_mat = [[0,1,2],[3,4,5]]\n",
        "my_mat2 =np.array(my_mat)\n"
      ],
      "execution_count": 0,
      "outputs": []
    },
    {
      "cell_type": "code",
      "metadata": {
        "id": "6p5jq3muIeES",
        "colab_type": "code",
        "outputId": "3b4e40d5-5170-4416-a789-2cfbc8abc9f1",
        "colab": {
          "base_uri": "https://localhost:8080/",
          "height": 34
        }
      },
      "source": [
        "my_mat2.shape"
      ],
      "execution_count": 0,
      "outputs": [
        {
          "output_type": "execute_result",
          "data": {
            "text/plain": [
              "(2, 3)"
            ]
          },
          "metadata": {
            "tags": []
          },
          "execution_count": 13
        }
      ]
    },
    {
      "cell_type": "code",
      "metadata": {
        "id": "aquNQ1XH6vGL",
        "colab_type": "code",
        "colab": {
          "base_uri": "https://localhost:8080/",
          "height": 52
        },
        "outputId": "35e49073-06d7-4ed1-b7e2-4667b83b55b6"
      },
      "source": [
        "# Challenge 2\n",
        "# Create a 2D array of zeros \n",
        "# Hint: Learn from Example 2\n",
        "#\n",
        "np.zeros((2,2))\n"
      ],
      "execution_count": 13,
      "outputs": [
        {
          "output_type": "execute_result",
          "data": {
            "text/plain": [
              "array([[0., 0.],\n",
              "       [0., 0.]])"
            ]
          },
          "metadata": {
            "tags": []
          },
          "execution_count": 13
        }
      ]
    },
    {
      "cell_type": "code",
      "metadata": {
        "id": "tslhBNMQ6wU-",
        "colab_type": "code",
        "colab": {
          "base_uri": "https://localhost:8080/",
          "height": 52
        },
        "outputId": "5b1bf909-4892-42ba-e49d-9d4809c380b6"
      },
      "source": [
        "# Challenge 3\n",
        "# Create a 2D array of random values\n",
        "# Hint: Learn from Example 2\n",
        "#\n",
        "bb= np.random.rand(2,2)\n",
        "print(bb)"
      ],
      "execution_count": 4,
      "outputs": [
        {
          "output_type": "stream",
          "text": [
            "[[0.48260809 0.78639491]\n",
            " [0.91364301 0.34678905]]\n"
          ],
          "name": "stdout"
        }
      ]
    },
    {
      "cell_type": "code",
      "metadata": {
        "id": "ukWLHCL0CJx1",
        "colab_type": "code",
        "colab": {
          "base_uri": "https://localhost:8080/",
          "height": 156
        },
        "outputId": "cccd144c-8e5b-47f2-e263-63c11abe5db4"
      },
      "source": [
        "# Challenge 4\n",
        "# Create a 3D array with values starting 6, stops at 40 with interval of 2\n",
        "#\n",
        "cc=np.arange(6,41,2)\n",
        "cc.shape=(2,3,3)\n",
        "print(cc)\n",
        "cc.ndim"
      ],
      "execution_count": 117,
      "outputs": [
        {
          "output_type": "stream",
          "text": [
            "[[[ 6  8 10]\n",
            "  [12 14 16]\n",
            "  [18 20 22]]\n",
            "\n",
            " [[24 26 28]\n",
            "  [30 32 34]\n",
            "  [36 38 40]]]\n"
          ],
          "name": "stdout"
        },
        {
          "output_type": "execute_result",
          "data": {
            "text/plain": [
              "3"
            ]
          },
          "metadata": {
            "tags": []
          },
          "execution_count": 117
        }
      ]
    },
    {
      "cell_type": "markdown",
      "metadata": {
        "id": "BqyScgzc410j",
        "colab_type": "text"
      },
      "source": [
        "## 1.2 Attributes and Functions"
      ]
    },
    {
      "cell_type": "code",
      "metadata": {
        "id": "eLjMuBef93ZF",
        "colab_type": "code",
        "colab": {
          "base_uri": "https://localhost:8080/",
          "height": 34
        },
        "outputId": "b22ab5f0-2eaf-4aa5-b0a7-20a477ffa1cd"
      },
      "source": [
        "# We use attributes to access information about a particular array,\n",
        "# while functions to perform a certain operations to the array. \n",
        "# We will learn about attributes and functions in this section of the session.\n",
        "# First let's generate a 1D array to work with; we will name \n",
        "# this attribute attribute_arr as shown below;\n",
        "# \n",
        "attribute_arr = np.random.rand(5)\n",
        "\n",
        "print(attribute_arr)"
      ],
      "execution_count": 14,
      "outputs": [
        {
          "output_type": "stream",
          "text": [
            "[0.6596077  0.10190818 0.27724869 0.7382176  0.3345185 ]\n"
          ],
          "name": "stdout"
        }
      ]
    },
    {
      "cell_type": "code",
      "metadata": {
        "id": "LQ8aYHM-45r6",
        "colab_type": "code",
        "colab": {
          "base_uri": "https://localhost:8080/",
          "height": 34
        },
        "outputId": "61784f23-fb4c-4868-8960-9bcafcece1a8"
      },
      "source": [
        "# Example 1\n",
        "# Using the max() function\n",
        "# \n",
        "attribute_arr.max()"
      ],
      "execution_count": 15,
      "outputs": [
        {
          "output_type": "execute_result",
          "data": {
            "text/plain": [
              "0.7382176041438334"
            ]
          },
          "metadata": {
            "tags": []
          },
          "execution_count": 15
        }
      ]
    },
    {
      "cell_type": "code",
      "metadata": {
        "id": "WMYeiSXA46iR",
        "colab_type": "code",
        "colab": {
          "base_uri": "https://localhost:8080/",
          "height": 34
        },
        "outputId": "dda30c99-0cc7-4349-b71a-6b4917d0626f"
      },
      "source": [
        "# Example 2\n",
        "# Using the min() function \n",
        "# \n",
        "attribute_arr.min()"
      ],
      "execution_count": 8,
      "outputs": [
        {
          "output_type": "execute_result",
          "data": {
            "text/plain": [
              "0.2140421381482781"
            ]
          },
          "metadata": {
            "tags": []
          },
          "execution_count": 8
        }
      ]
    },
    {
      "cell_type": "code",
      "metadata": {
        "id": "EopHxyUU46Y6",
        "colab_type": "code",
        "colab": {
          "base_uri": "https://localhost:8080/",
          "height": 34
        },
        "outputId": "ec2f278c-7068-4b0d-9085-b331991ce998"
      },
      "source": [
        "# Example 3\n",
        "# Using the argmax() function to return the indice of the max element of the array \n",
        "#\n",
        "attribute_arr.argmax()"
      ],
      "execution_count": 16,
      "outputs": [
        {
          "output_type": "execute_result",
          "data": {
            "text/plain": [
              "3"
            ]
          },
          "metadata": {
            "tags": []
          },
          "execution_count": 16
        }
      ]
    },
    {
      "cell_type": "code",
      "metadata": {
        "id": "n5K9YACf5L_z",
        "colab_type": "code",
        "colab": {
          "base_uri": "https://localhost:8080/",
          "height": 34
        },
        "outputId": "26ed3e8e-7160-4bcc-82bb-42d0258a78d1"
      },
      "source": [
        "# Example 4\n",
        "# Using the argmin() function to return the indice of the min element of the array\n",
        "#\n",
        "attribute_arr.argmin()"
      ],
      "execution_count": 17,
      "outputs": [
        {
          "output_type": "execute_result",
          "data": {
            "text/plain": [
              "1"
            ]
          },
          "metadata": {
            "tags": []
          },
          "execution_count": 17
        }
      ]
    },
    {
      "cell_type": "code",
      "metadata": {
        "id": "Sfb8LcQR5R7x",
        "colab_type": "code",
        "colab": {
          "base_uri": "https://localhost:8080/",
          "height": 34
        },
        "outputId": "8e5d4f8c-4bbb-45cf-91e9-a796f3950a46"
      },
      "source": [
        "# Example 5\n",
        "# Using the shape attribute to find the size of the array\n",
        "#\n",
        "attribute_arr.shape"
      ],
      "execution_count": 19,
      "outputs": [
        {
          "output_type": "execute_result",
          "data": {
            "text/plain": [
              "(5,)"
            ]
          },
          "metadata": {
            "tags": []
          },
          "execution_count": 19
        }
      ]
    },
    {
      "cell_type": "markdown",
      "metadata": {
        "id": "3w2o-QzS60AR",
        "colab_type": "text"
      },
      "source": [
        "### <font color=\"green\">1.2. Challenges</font>"
      ]
    },
    {
      "cell_type": "code",
      "metadata": {
        "id": "VKNneHD4-4BY",
        "colab_type": "code",
        "colab": {
          "base_uri": "https://localhost:8080/",
          "height": 52
        },
        "outputId": "8dfc3234-77de-46d9-ffc7-bfec50ee8a59"
      },
      "source": [
        "# First generate a 2D array to work with\n",
        "mylist1 = [[3,4,5] , [6,7,8]]\n",
        "mylist2 = np.array(mylist1)\n",
        "print(mylist2)"
      ],
      "execution_count": 21,
      "outputs": [
        {
          "output_type": "stream",
          "text": [
            "[[3 4 5]\n",
            " [6 7 8]]\n"
          ],
          "name": "stdout"
        }
      ]
    },
    {
      "cell_type": "code",
      "metadata": {
        "id": "ygUyasmp62jO",
        "colab_type": "code",
        "colab": {
          "base_uri": "https://localhost:8080/",
          "height": 34
        },
        "outputId": "074a8407-7363-40c1-927e-98ac93d18d8b"
      },
      "source": [
        "# Challenge 1\n",
        "# Then we will find the minimum value of the 2D array\n",
        "#\n",
        "mylist2.min()"
      ],
      "execution_count": 22,
      "outputs": [
        {
          "output_type": "execute_result",
          "data": {
            "text/plain": [
              "3"
            ]
          },
          "metadata": {
            "tags": []
          },
          "execution_count": 22
        }
      ]
    },
    {
      "cell_type": "code",
      "metadata": {
        "id": "Vi6G0azm637R",
        "colab_type": "code",
        "colab": {
          "base_uri": "https://localhost:8080/",
          "height": 34
        },
        "outputId": "4392cc6f-d281-4295-d40c-ae1a47c56625"
      },
      "source": [
        "# Challenge 2\n",
        "# We will find the maximum value of the 2D array\n",
        "#\n",
        "mylist2.max()"
      ],
      "execution_count": 23,
      "outputs": [
        {
          "output_type": "execute_result",
          "data": {
            "text/plain": [
              "8"
            ]
          },
          "metadata": {
            "tags": []
          },
          "execution_count": 23
        }
      ]
    },
    {
      "cell_type": "code",
      "metadata": {
        "id": "84WVD6TA65Bm",
        "colab_type": "code",
        "colab": {
          "base_uri": "https://localhost:8080/",
          "height": 34
        },
        "outputId": "68fe68f7-f3e5-47e2-a502-dd913cf45893"
      },
      "source": [
        "# Challenge 3\n",
        "# Then return the indice of the maximun element of the 2D array \n",
        "# \n",
        "mylist2.argmax()"
      ],
      "execution_count": 24,
      "outputs": [
        {
          "output_type": "execute_result",
          "data": {
            "text/plain": [
              "5"
            ]
          },
          "metadata": {
            "tags": []
          },
          "execution_count": 24
        }
      ]
    },
    {
      "cell_type": "code",
      "metadata": {
        "id": "kpaSbWQt66Fz",
        "colab_type": "code",
        "colab": {
          "base_uri": "https://localhost:8080/",
          "height": 34
        },
        "outputId": "4a9165ec-8164-4739-cb44-f4c0ce2fdee3"
      },
      "source": [
        "# Challenge 4\n",
        "# Again return the indice of the minimum element of the 2D array\n",
        "# \n",
        "mylist2.argmin()"
      ],
      "execution_count": 25,
      "outputs": [
        {
          "output_type": "execute_result",
          "data": {
            "text/plain": [
              "0"
            ]
          },
          "metadata": {
            "tags": []
          },
          "execution_count": 25
        }
      ]
    },
    {
      "cell_type": "code",
      "metadata": {
        "id": "0Snj7gJo67OU",
        "colab_type": "code",
        "colab": {
          "base_uri": "https://localhost:8080/",
          "height": 34
        },
        "outputId": "0052b3e7-0e67-4378-9f48-fd221fe2fd5e"
      },
      "source": [
        "# Challenge 5\n",
        "# Lastly, return the data type of the generated 2D array using dtype\n",
        "# \n",
        "mylist2.dtype"
      ],
      "execution_count": 27,
      "outputs": [
        {
          "output_type": "execute_result",
          "data": {
            "text/plain": [
              "dtype('int64')"
            ]
          },
          "metadata": {
            "tags": []
          },
          "execution_count": 27
        }
      ]
    },
    {
      "cell_type": "markdown",
      "metadata": {
        "id": "lpP7qc835YZX",
        "colab_type": "text"
      },
      "source": [
        "## 1.3  Indexing  and Broadcasting"
      ]
    },
    {
      "cell_type": "code",
      "metadata": {
        "id": "bd0imU6GKHfs",
        "colab_type": "code",
        "colab": {
          "base_uri": "https://localhost:8080/",
          "height": 34
        },
        "outputId": "1adf207f-de71-457c-d781-655fa6efc69e"
      },
      "source": [
        "# Creating an array to work with\n",
        "in_array = np.arange(0,15,2)\n",
        "\n",
        "print(in_array)"
      ],
      "execution_count": 41,
      "outputs": [
        {
          "output_type": "stream",
          "text": [
            "[ 0  2  4  6  8 10 12 14]\n"
          ],
          "name": "stdout"
        }
      ]
    },
    {
      "cell_type": "code",
      "metadata": {
        "id": "e_yW1XvJ5dxC",
        "colab_type": "code",
        "colab": {
          "base_uri": "https://localhost:8080/",
          "height": 69
        },
        "outputId": "0603fd8d-24e4-4acb-cedd-89c55145b5c3"
      },
      "source": [
        "# Example 1\n",
        "# Bracketing indexing allows us to access\n",
        "# elements from a Numpy array as shown\n",
        "# \n",
        "print(in_array[2])\n",
        "print(in_array[1:5])\n",
        "print(in_array[3:])"
      ],
      "execution_count": 42,
      "outputs": [
        {
          "output_type": "stream",
          "text": [
            "4\n",
            "[2 4 6 8]\n",
            "[ 6  8 10 12 14]\n"
          ],
          "name": "stdout"
        }
      ]
    },
    {
      "cell_type": "code",
      "metadata": {
        "id": "NzNROPLy5vg3",
        "colab_type": "code",
        "colab": {
          "base_uri": "https://localhost:8080/",
          "height": 139
        },
        "outputId": "070c370b-7e21-43ce-839d-5f91e632bb4c"
      },
      "source": [
        "# Example 2\n",
        "# Broadcasting is Numpy's terminology for performing mathematical operations \n",
        "# between arrays with different shapes. This example provides insights on \n",
        "# broadcasting. First, lets run this cell then later uncomment each block trying\n",
        "# to understand what happens. \n",
        "# Once you're done with the final block, you can get a detailed explanation \n",
        "# on broadcasting here: http://bit.ly/NumpyBroadcasting\n",
        "# \n",
        "\n",
        "in_array[0:2] = 100\n",
        "print(in_array)\n",
        "\n",
        "# First reseting our array i.e. recreating it\n",
        "in_array = np.arange(0,11)\n",
        "print(in_array)\n",
        "\n",
        "# Then making a copy \n",
        "in_array_copy = in_array.copy()\n",
        "print(in_array_copy)\n",
        "\n",
        "# Afterwards creating a new array upon slicing\n",
        "slice_of_arr = in_array[0:5]\n",
        "print(slice_of_arr)\n",
        "\n",
        "# Changing the Slice\n",
        "slice_of_arr[:]=22\n",
        "print(slice_of_arr)\n",
        "\n",
        "# NB: Changes also occur in our original array\n",
        "print(in_array)\n",
        "\n",
        "# check your copy\n",
        "print(in_array_copy)"
      ],
      "execution_count": 49,
      "outputs": [
        {
          "output_type": "stream",
          "text": [
            "[100 100  22  22  22   5   6   7   8   9  10]\n",
            "[ 0  1  2  3  4  5  6  7  8  9 10]\n",
            "[ 0  1  2  3  4  5  6  7  8  9 10]\n",
            "[0 1 2 3 4]\n",
            "[22 22 22 22 22]\n",
            "[22 22 22 22 22  5  6  7  8  9 10]\n",
            "[ 0  1  2  3  4  5  6  7  8  9 10]\n"
          ],
          "name": "stdout"
        }
      ]
    },
    {
      "cell_type": "code",
      "metadata": {
        "id": "juXc8Yem584S",
        "colab_type": "code",
        "colab": {
          "base_uri": "https://localhost:8080/",
          "height": 121
        },
        "outputId": "59f94fce-70d2-46cd-ed3d-cff6bffd0024"
      },
      "source": [
        "# Example 3\n",
        "# Indexing a 2D array (matrices)\n",
        "# \n",
        "\n",
        "ind_arr_2d = np.array(([21, 22, 23], [11, 22, 33], [43, 77, 89]))\n",
        "print(ind_arr_2d)\n",
        "\n",
        "# Selecting element at row index 1 & column index 2\n",
        "#\n",
        "print(ind_arr_2d[1][2])\n",
        "\n",
        "# Selecting a Row at index 1\n",
        "#\n",
        "row = ind_arr_2d[1]\n",
        "print(row)\n",
        "\n",
        "# Selecting a column at index 1 \n",
        "# \n",
        "column = ind_arr_2d[:, 1]\n",
        "print(column)"
      ],
      "execution_count": 53,
      "outputs": [
        {
          "output_type": "stream",
          "text": [
            "[[21 22 23]\n",
            " [11 22 33]\n",
            " [43 77 89]]\n",
            "33\n",
            "[11 22 33]\n",
            "[22 22 77]\n"
          ],
          "name": "stdout"
        }
      ]
    },
    {
      "cell_type": "code",
      "metadata": {
        "id": "l-PTQXUi6Cxp",
        "colab_type": "code",
        "colab": {
          "base_uri": "https://localhost:8080/",
          "height": 382
        },
        "outputId": "355745a7-c0af-4a5c-e310-5523ca476a8d"
      },
      "source": [
        "# Example 4 \n",
        "# Fancy Indexing allows us to select entire rows or columns out of order\n",
        "# as shown\n",
        "# \n",
        "\n",
        "# First creating an array or zeros\n",
        "arr2d = np.zeros((10,10))\n",
        "print(arr2d)\n",
        "\n",
        "# Length of array\n",
        "arr_length = arr2d.shape[1]\n",
        "print(arr_length)\n",
        "\n",
        "# creating the array \n",
        "for i in range(arr_length):\n",
        "  arr2d[i] = i\n",
        "   \n",
        "print(arr2d)\n",
        "\n",
        "# Now selecting the first, third and the fourth rows via fancy indexing\n",
        "#arr2d[[0,2,3]]"
      ],
      "execution_count": 61,
      "outputs": [
        {
          "output_type": "stream",
          "text": [
            "[[0. 0. 0. 0. 0. 0. 0. 0. 0. 0.]\n",
            " [0. 0. 0. 0. 0. 0. 0. 0. 0. 0.]\n",
            " [0. 0. 0. 0. 0. 0. 0. 0. 0. 0.]\n",
            " [0. 0. 0. 0. 0. 0. 0. 0. 0. 0.]\n",
            " [0. 0. 0. 0. 0. 0. 0. 0. 0. 0.]\n",
            " [0. 0. 0. 0. 0. 0. 0. 0. 0. 0.]\n",
            " [0. 0. 0. 0. 0. 0. 0. 0. 0. 0.]\n",
            " [0. 0. 0. 0. 0. 0. 0. 0. 0. 0.]\n",
            " [0. 0. 0. 0. 0. 0. 0. 0. 0. 0.]\n",
            " [0. 0. 0. 0. 0. 0. 0. 0. 0. 0.]]\n",
            "10\n",
            "[[0. 0. 0. 0. 0. 0. 0. 0. 0. 0.]\n",
            " [1. 1. 1. 1. 1. 1. 1. 1. 1. 1.]\n",
            " [2. 2. 2. 2. 2. 2. 2. 2. 2. 2.]\n",
            " [3. 3. 3. 3. 3. 3. 3. 3. 3. 3.]\n",
            " [4. 4. 4. 4. 4. 4. 4. 4. 4. 4.]\n",
            " [5. 5. 5. 5. 5. 5. 5. 5. 5. 5.]\n",
            " [6. 6. 6. 6. 6. 6. 6. 6. 6. 6.]\n",
            " [7. 7. 7. 7. 7. 7. 7. 7. 7. 7.]\n",
            " [8. 8. 8. 8. 8. 8. 8. 8. 8. 8.]\n",
            " [9. 9. 9. 9. 9. 9. 9. 9. 9. 9.]]\n"
          ],
          "name": "stdout"
        }
      ]
    },
    {
      "cell_type": "markdown",
      "metadata": {
        "id": "vtbzfkVu7A_i",
        "colab_type": "text"
      },
      "source": [
        "### <font color=\"green\">1.3. Challenges</font>"
      ]
    },
    {
      "cell_type": "code",
      "metadata": {
        "id": "AoybsIQPODZD",
        "colab_type": "code",
        "colab": {
          "base_uri": "https://localhost:8080/",
          "height": 104
        },
        "outputId": "11269436-a05d-493a-9fa3-dce9a69ca793"
      },
      "source": [
        "# First, we create a 2D array to work with\n",
        "array_2d = np.array(([15,20,25],[15,20,25],[30,35,40]))\n",
        "print(array_2d)\n",
        "\n",
        "array_2d[:2, 1: ]\n"
      ],
      "execution_count": 69,
      "outputs": [
        {
          "output_type": "stream",
          "text": [
            "[[15 20 25]\n",
            " [15 20 25]\n",
            " [30 35 40]]\n"
          ],
          "name": "stdout"
        },
        {
          "output_type": "execute_result",
          "data": {
            "text/plain": [
              "array([[20, 25],\n",
              "       [20, 25]])"
            ]
          },
          "metadata": {
            "tags": []
          },
          "execution_count": 69
        }
      ]
    },
    {
      "cell_type": "code",
      "metadata": {
        "id": "t2DLZeOs7Fej",
        "colab_type": "code",
        "colab": {
          "base_uri": "https://localhost:8080/",
          "height": 34
        },
        "outputId": "2fd01608-61b0-49b4-bd6b-42dddb22af9a"
      },
      "source": [
        "# Challenge 1\n",
        "# Let's get the 3rd row of the array\n",
        "# \n",
        "array_2d[2]"
      ],
      "execution_count": 64,
      "outputs": [
        {
          "output_type": "execute_result",
          "data": {
            "text/plain": [
              "array([30, 35, 40])"
            ]
          },
          "metadata": {
            "tags": []
          },
          "execution_count": 64
        }
      ]
    },
    {
      "cell_type": "code",
      "metadata": {
        "id": "mrcHn88Q7GuP",
        "colab_type": "code",
        "colab": {
          "base_uri": "https://localhost:8080/",
          "height": 34
        },
        "outputId": "65bf6431-62cb-4b88-9bc2-a5a341b6b028"
      },
      "source": [
        "# Challenge 2\n",
        "# Let's get the individual element 35\n",
        "# using the format arr_2d[row][col] or arr_2d[row,col]\n",
        "#\n",
        "array_2d[2][1]"
      ],
      "execution_count": 65,
      "outputs": [
        {
          "output_type": "execute_result",
          "data": {
            "text/plain": [
              "35"
            ]
          },
          "metadata": {
            "tags": []
          },
          "execution_count": 65
        }
      ]
    },
    {
      "cell_type": "code",
      "metadata": {
        "id": "2Q_POLIs7IKI",
        "colab_type": "code",
        "colab": {
          "base_uri": "https://localhost:8080/",
          "height": 52
        },
        "outputId": "8a0abeb9-67cc-49d4-cb2a-e7fd87caa39e"
      },
      "source": [
        "# Challenge 3\n",
        "# Let's slice the array (2,2) from top right corner\n",
        "# \n",
        "array2d2 =array_2d[:2 ,1: ]\n",
        "print(array2d2)"
      ],
      "execution_count": 70,
      "outputs": [
        {
          "output_type": "stream",
          "text": [
            "[[20 25]\n",
            " [20 25]]\n"
          ],
          "name": "stdout"
        }
      ]
    },
    {
      "cell_type": "code",
      "metadata": {
        "id": "dumxoNxX7JKO",
        "colab_type": "code",
        "colab": {
          "base_uri": "https://localhost:8080/",
          "height": 156
        },
        "outputId": "bbb47b7d-83bd-45ec-d5a0-f869fba6594a"
      },
      "source": [
        "# Challenge 4\n",
        "# Let's create a random 6 x 4 matrix then select the 3rd and 4th rows\n",
        "#\n",
        "kkk=np.random.rand(24)\n",
        "kkk.shape=(6,4)\n",
        "print(kkk)\n",
        "kkk[2:4]"
      ],
      "execution_count": 77,
      "outputs": [
        {
          "output_type": "stream",
          "text": [
            "[[0.80497101 0.15144255 0.27352557 0.3048997 ]\n",
            " [0.5922154  0.34461857 0.50930552 0.80026503]\n",
            " [0.34471222 0.21449243 0.48783091 0.63412884]\n",
            " [0.89698329 0.43914737 0.1527227  0.25175468]\n",
            " [0.53265522 0.85367303 0.92982473 0.6093566 ]\n",
            " [0.7981416  0.14153921 0.31606736 0.1475926 ]]\n"
          ],
          "name": "stdout"
        },
        {
          "output_type": "execute_result",
          "data": {
            "text/plain": [
              "array([[0.34471222, 0.21449243, 0.48783091, 0.63412884],\n",
              "       [0.89698329, 0.43914737, 0.1527227 , 0.25175468]])"
            ]
          },
          "metadata": {
            "tags": []
          },
          "execution_count": 77
        }
      ]
    },
    {
      "cell_type": "markdown",
      "metadata": {
        "id": "7HM2oS-c6Fyz",
        "colab_type": "text"
      },
      "source": [
        "## 1.4 Conditional Selection"
      ]
    },
    {
      "cell_type": "code",
      "metadata": {
        "id": "X02c9mGxaRdu",
        "colab_type": "code",
        "colab": {
          "base_uri": "https://localhost:8080/",
          "height": 34
        },
        "outputId": "6f157dbe-b28a-4e62-de71-9fd601b76990"
      },
      "source": [
        "# We can use conditions to check for whether elements in a certain range satisfy a condition.\n",
        "# Let's first creating an array. Do you remember what the arrange function does?\n",
        "#\n",
        "conditional_arr = np.arange(1,11)\n",
        "print(conditional_arr)"
      ],
      "execution_count": 79,
      "outputs": [
        {
          "output_type": "stream",
          "text": [
            "[ 1  2  3  4  5  6  7  8  9 10]\n"
          ],
          "name": "stdout"
        }
      ]
    },
    {
      "cell_type": "code",
      "metadata": {
        "id": "ekQ-AjCS6Lf1",
        "colab_type": "code",
        "colab": {
          "base_uri": "https://localhost:8080/",
          "height": 52
        },
        "outputId": "724ed20a-95b2-47fc-8ae6-a64888430350"
      },
      "source": [
        "# Example 1  \n",
        "# What do we do here?\n",
        "#\n",
        "conditional_arr > 3"
      ],
      "execution_count": 80,
      "outputs": [
        {
          "output_type": "execute_result",
          "data": {
            "text/plain": [
              "array([False, False, False,  True,  True,  True,  True,  True,  True,\n",
              "        True])"
            ]
          },
          "metadata": {
            "tags": []
          },
          "execution_count": 80
        }
      ]
    },
    {
      "cell_type": "code",
      "metadata": {
        "id": "_CMv_cG36P8s",
        "colab_type": "code",
        "colab": {
          "base_uri": "https://localhost:8080/",
          "height": 52
        },
        "outputId": "e7428af3-4b52-433b-86d0-24be1a7f321d"
      },
      "source": [
        "# Example 2\n",
        "# What happens here?\n",
        "#\n",
        "bool_arr = conditional_arr > 3\n",
        "print(bool_arr)\n",
        "\n",
        "print(conditional_arr[bool_arr])"
      ],
      "execution_count": 81,
      "outputs": [
        {
          "output_type": "stream",
          "text": [
            "[False False False  True  True  True  True  True  True  True]\n",
            "[ 4  5  6  7  8  9 10]\n"
          ],
          "name": "stdout"
        }
      ]
    },
    {
      "cell_type": "code",
      "metadata": {
        "id": "ZmMJyzcM6X8d",
        "colab_type": "code",
        "colab": {
          "base_uri": "https://localhost:8080/",
          "height": 34
        },
        "outputId": "bcdd95b8-7c6e-4c02-be2c-a7e2410a9bc5"
      },
      "source": [
        "# Example 3\n",
        "# Finally, let's select those values in our array that satisfy our condition\n",
        "# \n",
        "print(conditional_arr[conditional_arr > 4])"
      ],
      "execution_count": 82,
      "outputs": [
        {
          "output_type": "stream",
          "text": [
            "[ 5  6  7  8  9 10]\n"
          ],
          "name": "stdout"
        }
      ]
    },
    {
      "cell_type": "markdown",
      "metadata": {
        "id": "FXNTaawR7Lly",
        "colab_type": "text"
      },
      "source": [
        "### <font color=\"green\">1.4 Challenges</font>"
      ]
    },
    {
      "cell_type": "code",
      "metadata": {
        "id": "JvOfEoCQdPW3",
        "colab_type": "code",
        "colab": {}
      },
      "source": [
        "# Creating the array to be used below\n",
        "#\n",
        "x = np.array([[0, 1, 2], [3, 4, 5], [6, 7, 8]])"
      ],
      "execution_count": 0,
      "outputs": []
    },
    {
      "cell_type": "code",
      "metadata": {
        "id": "X8wmyySf7TRt",
        "colab_type": "code",
        "colab": {
          "base_uri": "https://localhost:8080/",
          "height": 34
        },
        "outputId": "7f1db805-287a-4bac-e67b-1ab4cc22bfb7"
      },
      "source": [
        "# Challenge 1\n",
        "# Get the 2nd row using conditional selection\n",
        "#\n",
        "x[(x>2) & (x<6)]"
      ],
      "execution_count": 91,
      "outputs": [
        {
          "output_type": "execute_result",
          "data": {
            "text/plain": [
              "array([3, 4, 5])"
            ]
          },
          "metadata": {
            "tags": []
          },
          "execution_count": 91
        }
      ]
    },
    {
      "cell_type": "code",
      "metadata": {
        "id": "h3uZ6qls7UMq",
        "colab_type": "code",
        "colab": {
          "base_uri": "https://localhost:8080/",
          "height": 34
        },
        "outputId": "cd2dd96a-0b5d-43f0-f617-793d37910a33"
      },
      "source": [
        "# Challenge 2\n",
        "# Which elements are greater than two?\n",
        "#\n",
        "x[x>2]"
      ],
      "execution_count": 85,
      "outputs": [
        {
          "output_type": "execute_result",
          "data": {
            "text/plain": [
              "array([3, 4, 5, 6, 7, 8])"
            ]
          },
          "metadata": {
            "tags": []
          },
          "execution_count": 85
        }
      ]
    },
    {
      "cell_type": "code",
      "metadata": {
        "id": "yKfmU0xF7U-V",
        "colab_type": "code",
        "colab": {
          "base_uri": "https://localhost:8080/",
          "height": 34
        },
        "outputId": "e64c892c-d39a-494c-833a-0e2fb532cfef"
      },
      "source": [
        "# Challenge 3\n",
        "# Get the array [7, 8] from the x array\n",
        "# \n",
        "x[2][:3]"
      ],
      "execution_count": 95,
      "outputs": [
        {
          "output_type": "execute_result",
          "data": {
            "text/plain": [
              "array([6, 7, 8])"
            ]
          },
          "metadata": {
            "tags": []
          },
          "execution_count": 95
        }
      ]
    },
    {
      "cell_type": "markdown",
      "metadata": {
        "id": "5mWusWpH6eff",
        "colab_type": "text"
      },
      "source": [
        "## 1.5 Operations"
      ]
    },
    {
      "cell_type": "code",
      "metadata": {
        "id": "JIDxVUI0nVEY",
        "colab_type": "code",
        "colab": {
          "base_uri": "https://localhost:8080/",
          "height": 34
        },
        "outputId": "c79579d9-eee9-4ee8-c243-0c05cf44495e"
      },
      "source": [
        "# Creating the array that we will use below:\n",
        "# \n",
        "a = np.arange(0,5)\n",
        "print(a)"
      ],
      "execution_count": 124,
      "outputs": [
        {
          "output_type": "stream",
          "text": [
            "[0 1 2 3 4]\n"
          ],
          "name": "stdout"
        }
      ]
    },
    {
      "cell_type": "code",
      "metadata": {
        "id": "YRtb1N4i6hbE",
        "colab_type": "code",
        "colab": {
          "base_uri": "https://localhost:8080/",
          "height": 52
        },
        "outputId": "8ac24ca5-19c4-4185-8fe8-60ab7a1d50fa"
      },
      "source": [
        "# Example 1\n",
        "# Arithmetic Operations\n",
        "# \n",
        "addition_arr = a + a\n",
        "print(addition_arr)\n",
        "\n",
        "subtration_arr = a - a\n",
        "print(subtration_arr)"
      ],
      "execution_count": 122,
      "outputs": [
        {
          "output_type": "stream",
          "text": [
            "[0 2 4 6 8]\n",
            "[0 0 0 0 0]\n"
          ],
          "name": "stdout"
        }
      ]
    },
    {
      "cell_type": "code",
      "metadata": {
        "id": "33NeFWBs6l13",
        "colab_type": "code",
        "colab": {
          "base_uri": "https://localhost:8080/",
          "height": 52
        },
        "outputId": "35643d73-8b6c-4629-c064-46181581a8e8"
      },
      "source": [
        "# Example 2\n",
        "# Universal Array Functions\n",
        "# \n",
        "\n",
        "# square root\n",
        "sqr_arr = np.sqrt(a)\n",
        "print(sqr_arr)\n",
        "\n",
        "# exponential\n",
        "exp_arr = np.exp(a)\n",
        "print(exp_arr)"
      ],
      "execution_count": 123,
      "outputs": [
        {
          "output_type": "stream",
          "text": [
            "[0.         1.         1.41421356 1.73205081 2.        ]\n",
            "[ 1.          2.71828183  7.3890561  20.08553692 54.59815003]\n"
          ],
          "name": "stdout"
        }
      ]
    },
    {
      "cell_type": "markdown",
      "metadata": {
        "id": "RMVtc9Bs7bb6",
        "colab_type": "text"
      },
      "source": [
        "### <font color=\"green\">1.5 Challenges</font>"
      ]
    },
    {
      "cell_type": "code",
      "metadata": {
        "id": "m8pWm82gkHqk",
        "colab_type": "code",
        "colab": {
          "base_uri": "https://localhost:8080/",
          "height": 34
        },
        "outputId": "e293d1e0-67f7-48b5-fda2-10ed6653791a"
      },
      "source": [
        "# Challenge 1\n",
        "# Raise the a array created above to the power of 2\n",
        "#\n",
        "print(pow(a,2))"
      ],
      "execution_count": 125,
      "outputs": [
        {
          "output_type": "stream",
          "text": [
            "[ 0  1  4  9 16]\n"
          ],
          "name": "stdout"
        }
      ]
    },
    {
      "cell_type": "code",
      "metadata": {
        "id": "y1CxcuFj7ehe",
        "colab_type": "code",
        "colab": {
          "base_uri": "https://localhost:8080/",
          "height": 89
        },
        "outputId": "77577b3b-70fe-47d4-d202-b3dc0d53f92c"
      },
      "source": [
        "# Challenge 2\n",
        "# Find the log of a using log(), \n",
        "# the Universal Array Functions\n",
        "#\n",
        "np.log2(a)\n",
        "#print(new)"
      ],
      "execution_count": 137,
      "outputs": [
        {
          "output_type": "stream",
          "text": [
            "/usr/local/lib/python3.6/dist-packages/ipykernel_launcher.py:1: RuntimeWarning: divide by zero encountered in log2\n",
            "  \"\"\"Entry point for launching an IPython kernel.\n"
          ],
          "name": "stderr"
        },
        {
          "output_type": "execute_result",
          "data": {
            "text/plain": [
              "array([     -inf, 0.       , 1.       , 1.5849625, 2.       ])"
            ]
          },
          "metadata": {
            "tags": []
          },
          "execution_count": 137
        }
      ]
    },
    {
      "cell_type": "code",
      "metadata": {
        "id": "QB-54zeYjWOa",
        "colab_type": "code",
        "colab": {}
      },
      "source": [
        "# Challenge 3\n",
        "# This of a dataset then determine where you can use the \n",
        "# numpy concepts that you learnt in this session?\n",
        "# Then explain them to your peer."
      ],
      "execution_count": 0,
      "outputs": []
    }
  ]
}