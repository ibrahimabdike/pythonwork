{
  "nbformat": 4,
  "nbformat_minor": 0,
  "metadata": {
    "colab": {
      "name": "dictionaries.ipynb",
      "version": "0.3.2",
      "provenance": [],
      "include_colab_link": true
    },
    "kernelspec": {
      "name": "python3",
      "display_name": "Python 3"
    }
  },
  "cells": [
    {
      "cell_type": "markdown",
      "metadata": {
        "id": "view-in-github",
        "colab_type": "text"
      },
      "source": [
        "<a href=\"https://colab.research.google.com/github/yahyalito/pythonwork/blob/master/dictionaries.ipynb\" target=\"_parent\"><img src=\"https://colab.research.google.com/assets/colab-badge.svg\" alt=\"Open In Colab\"/></a>"
      ]
    },
    {
      "cell_type": "code",
      "metadata": {
        "id": "zITAqaoHSI3o",
        "colab_type": "code",
        "colab": {}
      },
      "source": [
        "# Challenge 1\n",
        "# Create a dictionary family with keys i.e. father,\n",
        "# mother, son and daughter. You can add values of your family\n",
        "# to the key values\n",
        "# \n",
        "family ={\n",
        "    'father':'Maalim',\n",
        "    'mother':'Elgan',\n",
        "    'son' : 'Zaid',\n",
        "    'daughter' : 'Hawatif'\n",
        "}"
      ],
      "execution_count": 0,
      "outputs": []
    },
    {
      "cell_type": "code",
      "metadata": {
        "id": "BUOpHQL7FuI7",
        "colab_type": "code",
        "colab": {}
      },
      "source": [
        "family['son']=\"Abdul\"\n"
      ],
      "execution_count": 0,
      "outputs": []
    },
    {
      "cell_type": "code",
      "metadata": {
        "id": "uz4ERe1sF0IO",
        "colab_type": "code",
        "colab": {
          "base_uri": "https://localhost:8080/",
          "height": 34
        },
        "outputId": "3a58bb27-14bf-4a56-c248-9581b2769905"
      },
      "source": [
        "print(family)"
      ],
      "execution_count": 38,
      "outputs": [
        {
          "output_type": "stream",
          "text": [
            "{'father': 'Maalim', 'mother': 'Elgan', 'son': 'Abdul', 'daughter': 'Hawatif'}\n"
          ],
          "name": "stdout"
        }
      ]
    },
    {
      "cell_type": "code",
      "metadata": {
        "id": "yy6DC8dKTDKg",
        "colab_type": "code",
        "colab": {}
      },
      "source": [
        "# Challenge 2\n",
        "# Create a dictionary name powers_dictionary using numbers 1-5 as keys \n",
        "# and their square power as values.  \n",
        "#\n",
        "powers_dictionary ={\n",
        "    '1' : 1,\n",
        "    '2' : 4,\n",
        "    '3' : 9,\n",
        "    '4' : 16,\n",
        "    '5' : 25\n",
        "}"
      ],
      "execution_count": 0,
      "outputs": []
    },
    {
      "cell_type": "code",
      "metadata": {
        "id": "X5wCh1StWQOy",
        "colab_type": "code",
        "colab": {}
      },
      "source": [
        "# Challenge 3\n",
        "# A caterer ofers three different food packages; \n",
        "# bronze package: starch:rice stew:chicken curry vegetable:cabbages desert:melon\n",
        "# silver package: starch:rice and chappati  stew:beef curry vegetable:spinach desert:melon and bananas\n",
        "# gold package: starch:rice, chappati and mukimo stew: beef curry vegetable:spinach and managu desert: tart\n",
        "# Create a dictionary that stores the above information then preview it\n",
        "# Hint: You can store a dictionary within a dictionary \n",
        "# \n",
        "\n",
        "food_packages = {\n",
        "    'bronze_package' :{'starch':'rice' ,'stew':'chicken curry', 'vegetable':'cabbages' ,'desert':'melon'},\n",
        "    'silver package' :{'starch':'rice and chappati' , 'stew':'beef curry', 'vegetable':'spinach' ,'desert':'melon and bananas'},\n",
        "    'gold package' : {'starch':'rice, chappati and mukimo' ,'stew': 'beef curry' ,'vegetable':'spinach and managu' ,'desert': 'tart'}\n",
        "}"
      ],
      "execution_count": 0,
      "outputs": []
    },
    {
      "cell_type": "code",
      "metadata": {
        "id": "iV4YTPPGbFut",
        "colab_type": "code",
        "colab": {
          "base_uri": "https://localhost:8080/",
          "height": 121
        },
        "outputId": "4302d8ee-8abd-4ac1-d9db-394fbc5d930c"
      },
      "source": [
        "# Challenge 1: \n",
        "# Naivas Supermarket sells two products: bread and milk. \n",
        "# A loaf of bread weighs 400 grams. Each packet of milk is .5 litre. \n",
        "# Write a program that reads the number of bread \n",
        "# and the number of packets of milk in an order from the user. \n",
        "# Then your program should compute and display the total quantity of the order.\n",
        "# You should store the order in the dictionary and \n",
        "# prompt the user for another input.\n",
        "# \n",
        "\n",
        "# Challenge 3\n",
        "# Upon creating the Naivas supermarket dictionary program earlier on,\n",
        "# We will now extend the functionality of your program to be able to also update\n",
        "# the quantity of either the bread or packet of milk.\n",
        "# Write another program the will prompt the user to indicate whether they want\n",
        "# to update the quantity of the product or compute the total quantity of the total order.\n",
        "# Using if statements, your program should execute either to the code you had earlier\n",
        "# on written or to the new code for updating that you will now write\n",
        "#\n",
        "\n",
        "\n",
        "x1 =input(\"Would  you like to enter value?\")\n",
        "x1.lower()\n",
        "\n",
        "if x1 == 'yes':\n",
        "  order={'milk':'' ,'bread':''}\n",
        "  bread = int(input('Enter number of loaves of bread '))\n",
        "  milk = int(input('Enter number of packets of milk :'))\n",
        "  qbread= bread * 400\n",
        "  qmilk = milk *250\n",
        "  order['milk'] = qmilk\n",
        "  order['bread'] = qbread\n",
        "  print(qbread , \"Kilograms of bread\")\n",
        "  print(qmilk , \"Litres of milk\")\n",
        "  \n",
        "  \n",
        "print(\"Thank you\")\n",
        "elif x1==no:\n",
        "  order={'milk':'' ,'bread':''}\n",
        "  bread = int(input('Enter number of loaves of bread '))\n",
        "  milk = int(input('Enter number of packets of milk :'))\n",
        "  qbread= bread * 400\n",
        "  qmilk = milk *250\n",
        "  order['milk'] = qmilk\n",
        "  order['bread'] = qbread\n",
        "  print\n",
        "\n",
        "\n",
        "\n",
        "\n"
      ],
      "execution_count": 42,
      "outputs": [
        {
          "output_type": "stream",
          "text": [
            "Would  you like to enter value?yes\n",
            "Enter number of loaves of bread 2\n",
            "Enter number of packets of milk :2\n",
            "800 Kilograms of bread\n",
            "500 Litres of milk\n",
            "Thank you\n"
          ],
          "name": "stdout"
        }
      ]
    },
    {
      "cell_type": "code",
      "metadata": {
        "id": "RjMkq5cYaZLU",
        "colab_type": "code",
        "colab": {
          "base_uri": "https://localhost:8080/",
          "height": 34
        },
        "outputId": "194c3efa-d52f-4c40-a3c9-c2c373184b9a"
      },
      "source": [
        "print(food_packages['silver package']['starch'])"
      ],
      "execution_count": 8,
      "outputs": [
        {
          "output_type": "stream",
          "text": [
            "rice and chappati\n"
          ],
          "name": "stdout"
        }
      ]
    },
    {
      "cell_type": "code",
      "metadata": {
        "id": "ysX8GRyylGfV",
        "colab_type": "code",
        "colab": {
          "base_uri": "https://localhost:8080/",
          "height": 173
        },
        "outputId": "8ab72010-28a1-4362-e0bb-ed2f65802f34"
      },
      "source": [
        "# Challenge 2:\n",
        "# Two words are anagrams if they contain all of the same letters, \n",
        "# but in a different order. For example, “evil” and “live” \n",
        "# are anagrams because each contains one e, one i, one l, and one v. \n",
        "# Create a program that reads two strings from the user, determines\n",
        "# whether or not they are anagrams, stores and reports the result.\n",
        "# Use a dictionary to solve this problem.\n",
        "# \n",
        "first_dict={}\n",
        "second_dict={}\n",
        "first_string=input(\"Enter first string :\")\n",
        "second_string=input(\"Enter second string :\")\n",
        "\n",
        "\n",
        "counter1 =len(first_string) \n",
        "counter2 =len(second_string)\n",
        "\n",
        "counter=0\n",
        "\n",
        "for character in first_string:\n",
        "  if character not in second_string:\n",
        "    print(\"Values are not anagrams\")\n",
        "  if character in second_string:\n",
        "    counter +=1\n",
        "    if counter==counter2:\n",
        "      print(\"Values are anagrams\")\n",
        "    else:\n",
        "      print(\"Values are not anagrams\")\n",
        "  else:\n",
        "    print(\"Values are not anagrams\")\n",
        "    \n",
        "\n"
      ],
      "execution_count": 27,
      "outputs": [
        {
          "output_type": "stream",
          "text": [
            "Enter first string :star\n",
            "Enter second string :rrrr\n",
            "Values are not anagrams\n",
            "Values are not anagrams\n",
            "Values are not anagrams\n",
            "Values are not anagrams\n",
            "Values are not anagrams\n",
            "Values are not anagrams\n",
            "Values are not anagrams\n"
          ],
          "name": "stdout"
        }
      ]
    },
    {
      "cell_type": "code",
      "metadata": {
        "id": "fMORgHCK7Oxa",
        "colab_type": "code",
        "colab": {
          "base_uri": "https://localhost:8080/",
          "height": 69
        },
        "outputId": "54f7ef8f-63e8-4396-d56f-508990c768d6"
      },
      "source": [
        "# Challenge 2:\n",
        "# Two words are anagrams if they contain all of the same letters, \n",
        "# but in a different order. For example, “evil” and “live” \n",
        "# are anagrams because each contains one e, one i, one l, and one v. \n",
        "# Create a program that reads two strings from the user, determines\n",
        "# whether or not they are anagrams, stores and reports the result.\n",
        "# Use a dictionary to solve this problem.\n",
        "# \n",
        "string1 = input(\"Enter the first string: \")\n",
        "string2 = input(\"Enter the second input: \")\n",
        "dict_2 = {\n",
        "  'key1': string1,\n",
        "  'key2': string2\n",
        "}\n",
        "if (sorted(string1) == sorted(string2)) and (len(string1) == len(string2)):\n",
        "  print(\"string1 and string2 are anagrams\")\n",
        "else:\n",
        "  print(\"The two strings are not anagrams\")"
      ],
      "execution_count": 31,
      "outputs": [
        {
          "output_type": "stream",
          "text": [
            "Enter the first string: ssssss\n",
            "Enter the second input: ssssss\n",
            "string1 and string2 are anagrams\n"
          ],
          "name": "stdout"
        }
      ]
    },
    {
      "cell_type": "code",
      "metadata": {
        "id": "cf-CJRZl84Ag",
        "colab_type": "code",
        "colab": {
          "base_uri": "https://localhost:8080/",
          "height": 69
        },
        "outputId": "dc2c528a-8635-4f52-fdcd-49b4b8e97a9f"
      },
      "source": [
        "# Challenge 3:\n",
        "# Create a program that determines and displays \n",
        "# the number of characters in a string entered by the user. \n",
        "# For example, \"Hello, World!\" has 13  characters while \n",
        "# abc has only three character. \n",
        "# Use a dictionary to solve this problem.\n",
        "# \n",
        "\n",
        "string =input(\"Enter the string :\")\n",
        "length_of_characters = len(string)\n",
        "print(length_of_characters)\n",
        "\n",
        "string_dict={\n",
        "    'key1' :string\n",
        "}\n",
        "\n",
        "#print(string_dict)\n",
        "#print()\n",
        "\n"
      ],
      "execution_count": 36,
      "outputs": [
        {
          "output_type": "stream",
          "text": [
            "Enter the string :input\n",
            "5\n",
            "{'key1': 'input'}\n"
          ],
          "name": "stdout"
        }
      ]
    },
    {
      "cell_type": "code",
      "metadata": {
        "id": "a1dEJaASF4Tw",
        "colab_type": "code",
        "colab": {
          "base_uri": "https://localhost:8080/",
          "height": 34
        },
        "outputId": "27076f8e-0a78-46a7-c804-3666ef515125"
      },
      "source": [
        "# Challenge 1\n",
        "# What is the power of 4 from the powers_dictionary\n",
        "# \n",
        "powers_dictionary['4']"
      ],
      "execution_count": 45,
      "outputs": [
        {
          "output_type": "execute_result",
          "data": {
            "text/plain": [
              "16"
            ]
          },
          "metadata": {
            "tags": []
          },
          "execution_count": 45
        }
      ]
    },
    {
      "cell_type": "code",
      "metadata": {
        "id": "xn8Yqxj3YeYX",
        "colab_type": "code",
        "colab": {
          "base_uri": "https://localhost:8080/",
          "height": 34
        },
        "outputId": "fd7e3565-d083-4e9e-a63e-d1e8109fe5db"
      },
      "source": [
        "family['father']"
      ],
      "execution_count": 46,
      "outputs": [
        {
          "output_type": "execute_result",
          "data": {
            "text/plain": [
              "'Maalim'"
            ]
          },
          "metadata": {
            "tags": []
          },
          "execution_count": 46
        }
      ]
    }
  ]
}